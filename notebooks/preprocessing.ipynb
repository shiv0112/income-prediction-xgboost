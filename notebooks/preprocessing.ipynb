{
 "cells": [
  {
   "cell_type": "code",
   "execution_count": 14,
   "metadata": {},
   "outputs": [],
   "source": [
    "import numpy as np\n",
    "import pandas as pd\n",
    "from pickle import load"
   ]
  },
  {
   "cell_type": "code",
   "execution_count": 15,
   "metadata": {},
   "outputs": [],
   "source": [
    "class feature_eng:\n",
    "    train_set = pd.read_csv('http://archive.ics.uci.edu/ml/machine-learning-databases/adult/adult.data', header = None)\n",
    "    col_labels = ['age', 'workclass', 'fnlwgt', 'education','education_num','marital_status', 'occupation','relationship', 'race', 'sex', 'capital_gain','capital_loss', 'hours_per_week', 'native_country', 'wage_class']\n",
    "    train_set.columns = col_labels\n",
    "    scaler=load(open('../scaler.pkl','rb'))\n",
    "    def preprocessing(df):\n",
    "        fq_age = train_set.groupby('workclass').size()/len(train_set)\n",
    "        df[0][1]=dfdf[0][1].map(fq_age)\n",
    "        df.drop('education',axis=1,inplace=True)\n",
    "        fq=train_set.groupby('marital_status').size()/len(train_set)\n",
    "        df['marital_status']=df['marital_status'].map(fq)\n",
    "        df['occupation']=np.where(df['occupation']==' ?',train_set['occupation'].mode(),df['occupation'])\n",
    "        fq=train_set.groupby('occupation').size()/len(train_set)\n",
    "        df['occupation']=df['occupation'].map(fq)\n",
    "        fq=train_set.groupby('relationship').size()/len(train_set)\n",
    "        df['relationship']=df['relationship'].map(fq)\n",
    "        fq=train_set.groupby('race').size()/len(train_set)\n",
    "        df['race']=df['race'].map(fq)\n",
    "        df['sex']=np.where(df['sex']==' Male',0,1)\n",
    "        df['native_country']=np.where(df['native_country']==' United-States',1,0)\n",
    "        X_test=df.drop('wage_class',axis=1)\n",
    "        y_test=df['wage_class']\n",
    "        X_col=X_test.columns\n",
    "        X_test=scaler.transform(X_test)\n",
    "        X_test=pd.DataFrame(X_test,columns=X_col)\n",
    "        return(X_test,y_test)"
   ]
  },
  {
   "cell_type": "code",
   "execution_count": 5,
   "metadata": {},
   "outputs": [
    {
     "data": {
      "text/plain": [
       "array([[0.30137 , 0.052099, 0.044302, 0.8     , 0.7129  , 0.629561,\n",
       "        0.599738, 1.      , 0.      , 0.02174 , 0.      , 0.397959,\n",
       "        1.      ]])"
      ]
     },
     "execution_count": 5,
     "metadata": {},
     "output_type": "execute_result"
    }
   ],
   "source": [
    "l=np.array([[0.301370,0.052099,0.044302,0.800000,0.712900,0.629561,0.599738,1.000000,0.0,0.021740,0.000000,0.397959,1.0]])\n",
    "l"
   ]
  },
  {
   "cell_type": "code",
   "execution_count": 10,
   "metadata": {},
   "outputs": [],
   "source": [
    "k=np.array([[39,\"State-gov\",77516,\"Bachelors\",13,\"Never-married\",\"Adm-clerical\",\"Not-in-family\",\"White\",\"Male\",2174,0,40,\"United-States\",\"<=50K\"]])"
   ]
  },
  {
   "cell_type": "code",
   "execution_count": 11,
   "metadata": {},
   "outputs": [
    {
     "data": {
      "text/plain": [
       "array([['39', 'State-gov', '77516', 'Bachelors', '13', 'Never-married',\n",
       "        'Adm-clerical', 'Not-in-family', 'White', 'Male', '2174', '0',\n",
       "        '40', 'United-States', '<=50K']], dtype='<U13')"
      ]
     },
     "execution_count": 11,
     "metadata": {},
     "output_type": "execute_result"
    }
   ],
   "source": [
    "k"
   ]
  },
  {
   "cell_type": "code",
   "execution_count": 18,
   "metadata": {
    "scrolled": true
   },
   "outputs": [
    {
     "data": {
      "text/plain": [
       "'39'"
      ]
     },
     "execution_count": 18,
     "metadata": {},
     "output_type": "execute_result"
    }
   ],
   "source": [
    "k[0][0]"
   ]
  },
  {
   "cell_type": "code",
   "execution_count": 23,
   "metadata": {},
   "outputs": [
    {
     "data": {
      "text/plain": [
       "workclass\n",
       " Federal-gov         0.029483\n",
       " Local-gov           0.064279\n",
       " Never-worked        0.000645\n",
       " Private             0.753417\n",
       " Self-emp-inc        0.034274\n",
       " Self-emp-not-inc    0.078038\n",
       " State-gov           0.039864\n",
       "dtype: float64"
      ]
     },
     "execution_count": 23,
     "metadata": {},
     "output_type": "execute_result"
    }
   ],
   "source": [
    "train_set['workclass']=np.where(train_set['workclass']==' Without-pay',' Never-worked',train_set['workclass'])\n",
    "train_set['workclass']=np.where(train_set['workclass']==' ?',train_set['workclass'].mode(),train_set['workclass'])\n",
    "fq_age = train_set.groupby('workclass').size()/len(train_set)\n",
    "fq_age"
   ]
  },
  {
   "cell_type": "code",
   "execution_count": 24,
   "metadata": {},
   "outputs": [],
   "source": [
    "train_set['workclass']=np.where(train_set['workclass']==' Without-pay',' Never-worked',train_set['workclass'])\n",
    "train_set['workclass']=np.where(train_set['workclass']==' ?',train_set['workclass'].mode(),train_set['workclass'])\n",
    "fq_age = train_set.groupby('workclass').size()/len(train_set)"
   ]
  },
  {
   "cell_type": "code",
   "execution_count": 25,
   "metadata": {},
   "outputs": [
    {
     "data": {
      "text/plain": [
       "pandas.core.series.Series"
      ]
     },
     "execution_count": 25,
     "metadata": {},
     "output_type": "execute_result"
    }
   ],
   "source": [
    "type(fq_age)"
   ]
  }
 ],
 "metadata": {
  "kernelspec": {
   "display_name": "Python 3",
   "language": "python",
   "name": "python3"
  },
  "language_info": {
   "codemirror_mode": {
    "name": "ipython",
    "version": 3
   },
   "file_extension": ".py",
   "mimetype": "text/x-python",
   "name": "python",
   "nbconvert_exporter": "python",
   "pygments_lexer": "ipython3",
   "version": "3.8.5"
  }
 },
 "nbformat": 4,
 "nbformat_minor": 4
}
